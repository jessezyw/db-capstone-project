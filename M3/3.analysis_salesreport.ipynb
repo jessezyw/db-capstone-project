{
 "cells": [
  {
   "cell_type": "markdown",
   "metadata": {},
   "source": [
    "# Little Lemon analysis and sales report\n",
    "You have gained all the necessary skills and knowledge required to interact with the back-end MySQL database from your Python-based front-end application via the standard database client MySQL Connector/Python. \n",
    "\n",
    "Follow the instructions in the exercises given below and create a Jupyter notebook to produce a Little Lemon analysis and sales report. You need to submit this report for your peers to review."
   ]
  },
  {
   "cell_type": "markdown",
   "metadata": {},
   "source": [
    "## Task 1:\n",
    "Complete the following steps to establish a connection pool:\n",
    "\n",
    "- To create a connection pool, import MySQLConnectionPool class from MySQL Connector/Python.\n",
    "\n",
    "- To find the information on the error, import the Error class from MySQL Connector/Python.\n",
    "\n",
    "- Define your database configurations as a Python dictionary object called dbconfig.\n",
    "\n",
    "- Establish a connection pool [pool_name = pool_b] with two connections. \n",
    "\n",
    "- Implement error handling using a try-except block in case the connection fails. "
   ]
  },
  {
   "cell_type": "code",
   "execution_count": 1,
   "metadata": {},
   "outputs": [
    {
     "name": "stdout",
     "output_type": "stream",
     "text": [
      "The connection pool is created with a name:  pool_b\n",
      "The pool size is: 2\n"
     ]
    }
   ],
   "source": [
    "from mysql.connector.pooling import MySQLConnectionPool\n",
    "from mysql.connector import Error\n",
    "\n",
    "dbconfig={\"database\":\"littlelemondb\", \"user\":\"admin0\", \"password\":\"080011\"}\n",
    "\n",
    "try:\n",
    "    pool = MySQLConnectionPool(pool_name='pool_b', pool_size=2, **dbconfig)\n",
    "    print(\"The connection pool is created with a name: \", pool.pool_name)\n",
    "    print(\"The pool size is:\", pool.pool_size)\n",
    "except Error as er:\n",
    "    print(\"Error code:\", er.errno)\n",
    "    print(\"Error message:\", er.msg)"
   ]
  },
  {
   "cell_type": "markdown",
   "metadata": {},
   "source": [
    "## Task 2:\n",
    "Three guests are trying to book dinner slots simultaneously. Get the connections from pool_b and insert the following data in the Bookings table:\n",
    "\n",
    "- TIP1: You need to add a connection to connect the third guest.\n",
    "- TIP2: The pool size is two. However, you have three connected users. You can only return two connections. Returning a third connection will raise a PoolError. Use try-except to print the error message. "
   ]
  },
  {
   "cell_type": "code",
   "execution_count": 2,
   "metadata": {},
   "outputs": [
    {
     "name": "stdout",
     "output_type": "stream",
     "text": [
      "3 new bookings ready to add to the Bookings Table\n"
     ]
    }
   ],
   "source": [
    "new_bookings = {\"TableNo\" : [8, 5, 12], \"CustomerID\" : [1, 4, 5], \n",
    "                \"BookingDate\" : [\"2023-5-19\", \"2023-5-20\", \"2023-5-21\"]}\n",
    "n_bookings = len(new_bookings[\"CustomerID\"])\n",
    "\n",
    "print(\"{} new bookings ready to add to the Bookings Table\".format(n_bookings))"
   ]
  },
  {
   "cell_type": "code",
   "execution_count": 3,
   "metadata": {},
   "outputs": [
    {
     "name": "stdout",
     "output_type": "stream",
     "text": [
      "\n",
      "INSERT INTO Bookings (TableNo, CustomerID, BookingDate)\n",
      "VALUES\n",
      "(8, 1, \"2023-5-19\")\n",
      "\n"
     ]
    }
   ],
   "source": [
    "sql_insert = \"\"\"\n",
    "INSERT INTO Bookings (TableNo, CustomerID, BookingDate)\n",
    "VALUES\n",
    "({}, {}, \"{}\")\n",
    "\"\"\".format(new_bookings[\"TableNo\"][0], new_bookings[\"CustomerID\"][0], new_bookings[\"BookingDate\"][0])\n",
    "print(sql_insert)"
   ]
  },
  {
   "cell_type": "code",
   "execution_count": 4,
   "metadata": {},
   "outputs": [
    {
     "name": "stdout",
     "output_type": "stream",
     "text": [
      "\n",
      "[CustomerID:1] is connected.\n",
      "Insert a new booking of [CustomerID:1], and the information are as follows:\n",
      "\tTable Number: 8\n",
      "\tBooking Date: 2023-5-19\n",
      "\n",
      "[CustomerID:4] is connected.\n",
      "Insert a new booking of [CustomerID:4], and the information are as follows:\n",
      "\tTable Number: 5\n",
      "\tBooking Date: 2023-5-20\n",
      "\n",
      " Failed getting connection; pool exhausted\n",
      "Adding new connection in the pool.\n",
      "A new connection is added in the pool.\n",
      "\n",
      "[CustomerID:5] is connected.\n",
      "Insert a new booking of [CustomerID:5], and the information are as follows:\n",
      "\tTable Number: 12\n",
      "\tBooking Date: 2023-5-21\n"
     ]
    }
   ],
   "source": [
    "import mysql.connector as connector\n",
    "\n",
    "# create a list to store connections in pool\n",
    "n_connection = [\"connect%s\" % x for x in range(n_bookings)] \n",
    "\n",
    "for i in range(n_bookings):\n",
    "\n",
    "    table = new_bookings[\"TableNo\"][i]\n",
    "    book_date = new_bookings[\"BookingDate\"][i]\n",
    "    cust_id = new_bookings[\"CustomerID\"][i]\n",
    "\n",
    "    insert_sql = \"\"\"\n",
    "    INSERT INTO Bookings (TableNo, CustomerID, BookingDate)\n",
    "    VALUES\n",
    "    ({}, {}, \"{}\");\n",
    "    \"\"\".format(table, cust_id, book_date)\n",
    "\n",
    "    try:\n",
    "        n_connection[i] = pool.get_connection()\n",
    "        print(\"\\n[CustomerID:{}] is connected.\".format(cust_id))\n",
    "\n",
    "    except Error as er:\n",
    "        print(\"\\n\", er)\n",
    "        print(\"Adding new connection in the pool.\")\n",
    "        connection = connector.connect(user='root', password='080011')\n",
    "        pool.add_connection(cnx=connection)\n",
    "        print(\"A new connection is added in the pool.\\n\")\n",
    "        n_connection[i] = pool.get_connection()\n",
    "        print(\"[CustomerID:{}] is connected.\".format(cust_id))    \n",
    "\n",
    "    finally:\n",
    "        cursor = n_connection[i].cursor()\n",
    "        cursor.execute(insert_sql)\n",
    "        n_connection[i].commit()\n",
    "        print(\"Insert a new booking of [CustomerID:{}], and the information are as follows:\".format(cust_id))\n",
    "        print(\"\\tTable Number: {}\".format(table))\n",
    "        print(\"\\tBooking Date: {}\".format(book_date))       "
   ]
  },
  {
   "cell_type": "code",
   "execution_count": 5,
   "metadata": {},
   "outputs": [
    {
     "data": {
      "text/plain": [
       "[<mysql.connector.pooling.PooledMySQLConnection at 0x2605b3f6fd0>,\n",
       " <mysql.connector.pooling.PooledMySQLConnection at 0x2605d27a4f0>,\n",
       " <mysql.connector.pooling.PooledMySQLConnection at 0x2605b41a7f0>]"
      ]
     },
     "execution_count": 5,
     "metadata": {},
     "output_type": "execute_result"
    }
   ],
   "source": [
    "n_connection"
   ]
  },
  {
   "cell_type": "code",
   "execution_count": 6,
   "metadata": {},
   "outputs": [
    {
     "name": "stdout",
     "output_type": "stream",
     "text": [
      "connection 1 already closed.\n",
      "connection 2 already closed.\n",
      "Failed adding connection; queue is full\n"
     ]
    }
   ],
   "source": [
    "# return connection to pool\n",
    "for i in range(len(n_connection)):\n",
    "    try:\n",
    "        n_connection[i].close()\n",
    "        print(\"connection {} already closed.\".format(i+1))\n",
    "    except Error as er:\n",
    "        print(er)"
   ]
  },
  {
   "cell_type": "markdown",
   "metadata": {},
   "source": [
    "## Task 3:\n",
    "Create a report containing the following information:\n",
    "\n",
    "  - The name and EmployeeID of the Little Lemon manager.\n",
    "\n",
    "  - The name and role of the employee who receives the highest salary.\n",
    "\n",
    "  - Guests who booked in May.\n",
    "\n",
    "  - The full name and BookingID of all guests waiting to be seated with the receptionist in sorted order with respect to their BookingSlot."
   ]
  },
  {
   "cell_type": "code",
   "execution_count": 7,
   "metadata": {},
   "outputs": [
    {
     "name": "stdout",
     "output_type": "stream",
     "text": [
      "cursor object is successfully created.\n"
     ]
    }
   ],
   "source": [
    "# get the connection\n",
    "connection = pool.get_connection()\n",
    "if connection.is_connected():\n",
    "    cursor = connection.cursor()\n",
    "    print(\"cursor object is successfully created.\")\n",
    "else:\n",
    "    print(\"fail to create a cursor object.\")"
   ]
  },
  {
   "cell_type": "code",
   "execution_count": 12,
   "metadata": {},
   "outputs": [
    {
     "name": "stdout",
     "output_type": "stream",
     "text": [
      "Reoprt of Little Lemon\n",
      "\n",
      "Part 1--The name and EmployeeID of the Little Lemon manager.\n",
      "('EmployeeID', 'Name', 'Role')\n",
      "(1, 'Mario Gollini', 'Manager')\n",
      "\n",
      "Part 2--The name and role of the employee who receives the highest salary.\n",
      "('EmployeeID', 'Name', 'Role', 'Annual_Salary')\n",
      "(1, 'Mario Gollini', 'Manager', 70000)\n",
      "\n",
      "Part 3--Guest who booked in May.\n",
      "('BookingID', 'BookingDate', 'GuestName', 'ContactNumber', 'Email')\n",
      "(1, datetime.date(2022, 5, 19), 'Anna Iversen', 44627187, 'annaiversen@163.com')\n",
      "(23, datetime.date(2023, 5, 19), 'Anna Iversen', 44627187, 'annaiversen@163.com')\n",
      "(2, datetime.date(2022, 5, 20), 'Joakim Iversen', 74237178, 'joakimiii@personal.com')\n",
      "(24, datetime.date(2023, 5, 20), 'Marcos Romero', 17732934, 'macosromero@softcorp.com')\n",
      "(6, datetime.date(2022, 5, 20), 'Hiroki Yamane', 28832006, 'hirokiyamane@homeuse.com')\n",
      "(25, datetime.date(2023, 5, 21), 'Hiroki Yamane', 28832006, 'hirokiyamane@homeuse.com')\n",
      "\n",
      "Part 4--The full name and BookingID of all guests' priority.\n",
      "('GuestName', 'BookingID', 'BookingDate', 'Priority')\n",
      "('Anna Iversen', 1, datetime.date(2022, 5, 19), 'Critical')\n",
      "('Joakim Iversen', 2, datetime.date(2022, 5, 20), 'Critical')\n",
      "('Hiroki Yamane', 6, datetime.date(2022, 5, 20), 'Low')\n",
      "('Diana Pinto', 3, datetime.date(2022, 8, 22), 'Medium')\n",
      "('Marcos Romero', 4, datetime.date(2022, 8, 22), 'Low')\n",
      "('Vanessa McCarthy', 5, datetime.date(2022, 8, 31), 'High')\n",
      "('Anna Iversen', 7, datetime.date(2022, 10, 10), 'Low')\n",
      "('Anna Iversen', 10, datetime.date(2022, 10, 13), 'Low')\n",
      "('Vanessa McCarthy', 8, datetime.date(2022, 11, 12), 'Low')\n",
      "('Vanessa McCarthy', 22, datetime.date(2022, 12, 17), 'Low')\n",
      "('Vanessa McCarthy', 11, datetime.date(2022, 12, 30), 'Low')\n",
      "('Anna Iversen', 23, datetime.date(2023, 5, 19), 'Low')\n",
      "('Marcos Romero', 24, datetime.date(2023, 5, 20), 'Low')\n",
      "('Hiroki Yamane', 25, datetime.date(2023, 5, 21), 'Low')\n"
     ]
    }
   ],
   "source": [
    "print(\"Reoprt of Little Lemon\")\n",
    "\n",
    "# Part1\n",
    "print(\"\\nPart 1--The name and EmployeeID of the Little Lemon manager.\")\n",
    "part1_report = \"\"\"\n",
    "SELECT Employees.EmployeeID, Employees.Name, Employees.Role\n",
    "FROM Employees\n",
    "WHERE Employees.Role = 'Manager';\n",
    "\"\"\"\n",
    "cursor.execute(part1_report)\n",
    "dataset_part1 = cursor.fetchall()\n",
    "print(cursor.column_names)\n",
    "for data in dataset_part1:\n",
    "       print(data)\n",
    "\n",
    "\n",
    "# Part2\n",
    "print(\"\\nPart 2--The name and role of the employee who receives the highest salary.\")\n",
    "part2_report = \"\"\"\n",
    "SELECT Employees.EmployeeID, Employees.Name, Employees.Role,\n",
    "       CAST(SUBSTRING(REPLACE(Employees.AnnualSalary, ',', ''), 2) AS UNSIGNED) AS 'Annual_Salary'\n",
    "FROM Employees\n",
    "ORDER BY 'Annual_Salary' DESC\n",
    "LIMIT 1;\n",
    "\"\"\"\n",
    "cursor.execute(part2_report)\n",
    "dataset_part2 = cursor.fetchall()\n",
    "print(cursor.column_names)\n",
    "for data in dataset_part2:\n",
    "       print(data)\n",
    "\n",
    "\n",
    "# Part3\n",
    "print(\"\\nPart 3--Guest who booked in May.\")\n",
    "part3_report = \"\"\"\n",
    "SELECT Bookings.BookingID, Bookings.BookingDate, \n",
    "       CONCAT(Customers.FirstName, ' ', Customers.LastName) AS GuestName,\n",
    "       Customers.ContactNumber, Customers.Email\n",
    "FROM Bookings\n",
    "JOIN Customers ON Customers.CustomerID = Bookings.CustomerID\n",
    "WHERE MONTH(BookingDate) = 5;\n",
    "\"\"\"\n",
    "cursor.execute(part3_report)\n",
    "dataset_part3 = cursor.fetchall()\n",
    "print(cursor.column_names)\n",
    "for data in dataset_part3:\n",
    "       print(data)\n",
    "\n",
    "\n",
    "# Part4\n",
    "import datetime as dt\n",
    "print(\"\\nPart 4--The full name and BookingID of all guests' priority.\")\n",
    "part4_report = \"\"\"\n",
    "SELECT CONCAT(Customers.FirstName, ' ', Customers.LastName) AS GuestName,\n",
    "       Bookings.BookingID, Bookings.BookingDate,\n",
    "       CASE\n",
    "           WHEN Bookings.EmployeeID = 1 THEN 'Critical'\n",
    "           WHEN Bookings.EmployeeID = 2 THEN 'High'\n",
    "           WHEN Bookings.EmployeeID = 3 THEN 'Medium'\n",
    "           ELSE 'Low'\n",
    "       END AS Priority\n",
    "FROM Bookings\n",
    "LEFT JOIN Customers ON Customers.CustomerID = Bookings.CustomerID\n",
    "LEFT JOIN Employees ON Employees.EmployeeID=Bookings.EmployeeID\n",
    "ORDER BY Bookings.BookingDate ASC;\n",
    "\"\"\"\n",
    "cursor.execute(part4_report)\n",
    "dataset_part4 = cursor.fetchall()\n",
    "print(cursor.column_names)\n",
    "for data in dataset_part4:\n",
    "       print(data)"
   ]
  },
  {
   "cell_type": "code",
   "execution_count": 13,
   "metadata": {},
   "outputs": [
    {
     "name": "stdout",
     "output_type": "stream",
     "text": [
      "MySQL connection is closed.\n"
     ]
    }
   ],
   "source": [
    "# return the connection to the pool\n",
    "if connection.is_connected():\n",
    "    connection.close()\n",
    "    print(\"MySQL connection is closed.\")\n",
    "else:\n",
    "    print(\"Connection is already closed\")"
   ]
  }
 ],
 "metadata": {
  "kernelspec": {
   "display_name": "Python 3",
   "language": "python",
   "name": "python3"
  },
  "language_info": {
   "codemirror_mode": {
    "name": "ipython",
    "version": 3
   },
   "file_extension": ".py",
   "mimetype": "text/x-python",
   "name": "python",
   "nbconvert_exporter": "python",
   "pygments_lexer": "ipython3",
   "version": "3.9.17"
  },
  "orig_nbformat": 4
 },
 "nbformat": 4,
 "nbformat_minor": 2
}
