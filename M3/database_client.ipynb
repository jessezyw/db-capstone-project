{
 "cells": [
  {
   "cell_type": "code",
   "execution_count": 2,
   "metadata": {},
   "outputs": [
    {
     "name": "stdout",
     "output_type": "stream",
     "text": [
      "The connection pool is created with a name:  pool_b\n",
      "The pool size is: 2\n"
     ]
    }
   ],
   "source": [
    "from mysql.connector.pooling import MySQLConnectionPool\n",
    "from mysql.connector import Error\n",
    "\n",
    "dbconfig={\"database\":\"littlelemondb\", \"user\":\"\", \"password\":\"\"}\n",
    "\n",
    "try:\n",
    "    pool = MySQLConnectionPool(pool_name='pool_b', pool_size=2, **dbconfig)\n",
    "    print(\"The connection pool is created with a name: \",pool.pool_name)\n",
    "    print(\"The pool size is:\",pool.pool_size)\n",
    "except Error as er:\n",
    "    print(\"Error code:\", er.errno)\n",
    "    print(\"Error message:\", er.msg)"
   ]
  },
  {
   "cell_type": "code",
   "execution_count": 4,
   "metadata": {},
   "outputs": [
    {
     "name": "stdout",
     "output_type": "stream",
     "text": [
      "cursor object is successfully created.\n"
     ]
    }
   ],
   "source": [
    "# get the connection\n",
    "connection = pool.get_connection()\n",
    "if connection.is_connected():\n",
    "    cursor = connection.cursor()\n",
    "    print(\"cursor object is successfully created.\")\n",
    "else:\n",
    "    print(\"fail to create a cursor object.\")"
   ]
  },
  {
   "cell_type": "code",
   "execution_count": 5,
   "metadata": {},
   "outputs": [
    {
     "data": {
      "text/plain": [
       "'littlelemondb'"
      ]
     },
     "execution_count": 5,
     "metadata": {},
     "output_type": "execute_result"
    }
   ],
   "source": [
    "connection.database"
   ]
  },
  {
   "cell_type": "code",
   "execution_count": 7,
   "metadata": {},
   "outputs": [
    {
     "name": "stdout",
     "output_type": "stream",
     "text": [
      "Tables in Little Lemon database:\n",
      "address bookings customers delivery employees menuitems menus orders ordersview "
     ]
    }
   ],
   "source": [
    "# show tables in littlelemondb\n",
    "show_tables_query = \"SHOW tables\" \n",
    "cursor.execute(show_tables_query)\n",
    "\n",
    "print('Tables in Little Lemon database:')\n",
    "for table in cursor:\n",
    "    print(table[0], end=' ')"
   ]
  },
  {
   "cell_type": "code",
   "execution_count": 9,
   "metadata": {},
   "outputs": [
    {
     "name": "stdout",
     "output_type": "stream",
     "text": [
      "('CustomerID', 'ContactNumber', 'Email', 'FullName')\n",
      "(1, 44627187, 'annaiversen@163.com', 'Anna Iversen')\n",
      "(6, 39634318, 'dianapc@accway.com', 'Diana Pinto')\n",
      "(4, 17732934, 'macosromero@softcorp.com', 'Marcos Romero')\n",
      "(5, 28832006, 'hirokiyamane@homeuse.com', 'Hiroki Yamane')\n"
     ]
    }
   ],
   "source": [
    "# Acquire the full name and contact details for every customer that has placed an order greater than $60 for a promotional campaign\n",
    "\n",
    "query_pro = \"\"\"\n",
    "SELECT Customers.CustomerID, Customers.ContactNumber, Customers.Email,\n",
    "       CONCAT(Customers.FirstName, ' ', Customers.LastName) AS FullName\n",
    "FROM Customers\n",
    "INNER JOIN Orders ON Customers.CustomerID = Orders.CustomerID\n",
    "WHERE Orders.TotalCost > 60;\n",
    "\"\"\"\n",
    "\n",
    "cursor.execute(query_pro)\n",
    "cust_list = cursor.fetchall()\n",
    "\n",
    "print(cursor.column_names)\n",
    "for cust in cust_list:\n",
    "    print(cust)"
   ]
  },
  {
   "cell_type": "code",
   "execution_count": 10,
   "metadata": {},
   "outputs": [
    {
     "name": "stdout",
     "output_type": "stream",
     "text": [
      "MySQL connection is closed.\n"
     ]
    }
   ],
   "source": [
    "# return the connection to the pool\n",
    "if connection.is_connected():\n",
    "    connection.close()\n",
    "    print(\"MySQL connection is closed.\")\n",
    "else:\n",
    "    print(\"Connection is already closed\")"
   ]
  }
 ],
 "metadata": {
  "kernelspec": {
   "display_name": "Python 3",
   "language": "python",
   "name": "python3"
  },
  "language_info": {
   "codemirror_mode": {
    "name": "ipython",
    "version": 3
   },
   "file_extension": ".py",
   "mimetype": "text/x-python",
   "name": "python",
   "nbconvert_exporter": "python",
   "pygments_lexer": "ipython3",
   "version": "3.9.17"
  },
  "orig_nbformat": 4
 },
 "nbformat": 4,
 "nbformat_minor": 2
}
